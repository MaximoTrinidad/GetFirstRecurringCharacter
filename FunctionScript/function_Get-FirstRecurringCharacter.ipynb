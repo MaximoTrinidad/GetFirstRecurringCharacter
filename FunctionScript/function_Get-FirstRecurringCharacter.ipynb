{
 "cells": [
  {
   "cell_type": "markdown",
   "metadata": {},
   "source": [
    "# function Get-FirstRecurringCharacter\n",
    "\n",
    "PowerShell function to get the first recurring character in a string. \n",
    "It requires two parameter: \n",
    "1. FullString - Enter a full string value.\n",
    "2. FindInString - Enter the character to search in the full string.\n",
    "\n"
   ]
  },
  {
   "cell_type": "code",
   "execution_count": 5,
   "metadata": {},
   "outputs": [
    {
     "name": "stdout",
     "output_type": "stream",
     "text": [
      "\u001b[93mFound String = a, at string position 0\u001b[0m\n",
      "\u001b[93mFound String = d, at string position 3\u001b[0m\n"
     ]
    }
   ],
   "source": [
    "function Get-FirstRecurringCharacter\n",
    "{\n",
    "\t<#\n",
    "\t.SYNOPSIS\n",
    "\t\tFunction Get-FirstRecurringCharacterfunction.\n",
    "\t\n",
    "\t.DESCRIPTION\n",
    "\t\tGet the first recurring character in a string..\n",
    "\t\n",
    "\t.PARAMETER FullString\n",
    "\t\tFullString - Enter a full string value. (Mandatory field)\n",
    "\t\n",
    "\t.PARAMETER DisplayGridview\n",
    "\t\tFindInString - Enter the character to search in the full string. (Mandatory field)\n",
    "\t\n",
    "\t.NOTES\n",
    "\t\tN/A\n",
    "#>\n",
    "\t[CmdletBinding()]\n",
    "\tparam(\n",
    "\t\t[Parameter(Mandatory=$true, Position=0)][string]$FullString,\n",
    "\t\t[Parameter(Mandatory=$true, Position=1)][string]$FindInString\n",
    "\t)\n",
    "\t\n",
    "\t## - Get position of the first instance 'd\" found:\n",
    "\t$FindInStringPosition = $FullString.indexof($FindInString);\n",
    "\t\n",
    "\t## - Use the position found to print the value:\n",
    "\t$foundChar = $FullString[$FindInStringPosition];\n",
    "\t\n",
    "\tWrite-Host \"Found String = $($foundChar), at string position $($FindInStringPosition)\" -ForegroundColor Yellow;\n",
    "}\n",
    "\n",
    "## - Execute function:\n",
    "Get-FirstRecurringCharacter -FullString 'abcdedcba' -FindInString 'a'\n",
    "Get-FirstRecurringCharacter -FullString 'abcdedcba' -FindInString 'd'\n",
    "\n"
   ]
  },
  {
   "cell_type": "code",
   "execution_count": 6,
   "metadata": {},
   "outputs": [
    {
     "name": "stdout",
     "output_type": "stream",
     "text": [
      "\n",
      "NAME\n",
      "    Get-FirstRecurringCharacter\n",
      "    \n",
      "SYNTAX\n",
      "    Get-FirstRecurringCharacter [-FullString] <string> [-FindInString] <string> \n",
      "    [<CommonParameters>]\n",
      "    \n",
      "    \n",
      "PARAMETERS\n",
      "    -FindInString <string>\n",
      "    \n",
      "    -FullString <string>\n",
      "    \n",
      "    <CommonParameters>\n",
      "        This cmdlet supports the common parameters: Verbose, Debug,\n",
      "        ErrorAction, ErrorVariable, WarningAction, WarningVariable,\n",
      "        OutBuffer, PipelineVariable, and OutVariable. For more information, see\n",
      "        about_CommonParameters (https://go.microsoft.com/fwlink/?LinkID=113216). \n",
      "    \n",
      "\n",
      "ALIASES\n",
      "    None\n",
      "    \n",
      "\n",
      "REMARKS\n",
      "    None\n",
      "\n",
      "\n"
     ]
    }
   ],
   "source": [
    "Get-Help Get-FirstRecurringCharacter -detailed"
   ]
  },
  {
   "cell_type": "code",
   "execution_count": null,
   "metadata": {},
   "outputs": [],
   "source": []
  }
 ],
 "metadata": {
  "kernelspec": {
   "display_name": ".NET (PowerShell)",
   "language": "PowerShell",
   "name": ".net-powershell"
  },
  "language_info": {
   "file_extension": ".ps1",
   "mimetype": "text/x-powershell",
   "name": "PowerShell",
   "pygments_lexer": "powershell",
   "version": "7.0"
  }
 },
 "nbformat": 4,
 "nbformat_minor": 4
}
